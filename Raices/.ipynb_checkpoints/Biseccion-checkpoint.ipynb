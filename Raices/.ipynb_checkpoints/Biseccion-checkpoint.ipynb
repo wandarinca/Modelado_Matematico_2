{
 "cells": [
  {
   "cell_type": "markdown",
   "metadata": {},
   "source": [
    "# Raices de ecuaciones algebraicas trascendentales\n",
    "\n",
    "1) Separación de raices\n",
    "\n",
    "2) Proceso iterativo del aumento de la precisión hasta lograr la tolerancia sugerida \n",
    "\n",
    "Teorema 1: Si una función continua adquiere valores de distinto signo en los extremos del segmento, entonces dentro del segmento existe por lo menos una raíz de la ecuación.\n"
   ]
  },
  {
   "cell_type": "code",
   "execution_count": 1,
   "metadata": {
    "collapsed": true
   },
   "outputs": [],
   "source": [
    "import numpy as np\n",
    "from sympy import *\n",
    "import matplotlib.pyplot as plt\n",
    "import random\n",
    "import scipy.integrate as sci_integrate\n",
    "from scipy.misc import comb\n",
    "from sympy import integrate as sym_integrate\n",
    "%matplotlib inline"
   ]
  },
  {
   "cell_type": "code",
   "execution_count": 2,
   "metadata": {
    "collapsed": true
   },
   "outputs": [],
   "source": [
    "def funcion_analitica(x):\n",
    "    return np.sin(x)\n",
    "    #return x**2\n",
    "    #return np.sqrt(x)\n",
    "    "
   ]
  },
  {
   "cell_type": "code",
   "execution_count": 3,
   "metadata": {
    "collapsed": true
   },
   "outputs": [],
   "source": [
    "#http://ww2.odu.edu/~agodunov/computing/programs/cpp/quanc8.cpp quanc8 Newton-Cotes (8 Panel) Adaptive Quadrature."
   ]
  },
  {
   "cell_type": "markdown",
   "metadata": {},
   "source": [
    "# Métodos de Bisección (una raiz)\n",
    "\n",
    "En matemáticas, el método de bisección es un algoritmo de búsqueda de raíces que trabaja dividiendo el intervalo a la mitad y seleccionando el subintervalo que tiene la raíz."
   ]
  },
  {
   "cell_type": "code",
   "execution_count": 10,
   "metadata": {
    "collapsed": true
   },
   "outputs": [],
   "source": [
    "def biseccion(a, b, f, tol,maxiter):\n",
    "    c = (a+b)/2.\n",
    "    anch = b-a\n",
    "    i = 0\n",
    "    while f(c)!= 0 or anch<= tol:\n",
    "        i+=1 \n",
    "        if f(a)*f(c)>0:\n",
    "            #print \"muevo izq\"\n",
    "            b = c\n",
    "        else:\n",
    "            #print \"muevo der\"\n",
    "            a = c\n",
    "        c = (a+b)/2.\n",
    "        anch = b - a\n",
    "        raiz = c\n",
    "        if i >= maxiter:\n",
    "            break\n",
    "    print \"Raiz en: \",raiz\n",
    "    print \"f(x): \",f(raiz)\n",
    "    print \"numero de iteraciones: \",i\n",
    "    return raiz, f(raiz)"
   ]
  },
  {
   "cell_type": "code",
   "execution_count": 11,
   "metadata": {
    "collapsed": false
   },
   "outputs": [
    {
     "name": "stdout",
     "output_type": "stream",
     "text": [
      "Raiz en:  3.09159265359\n",
      "f(x):  0.0499791692707\n",
      "numero de iteraciones:  70000000\n"
     ]
    }
   ],
   "source": [
    "raiz,f = biseccion( np.pi -0.05, np.pi +0.05,funcion_analitica, tol=0.1 ,maxiter= 7e7)#1e-5"
   ]
  },
  {
   "cell_type": "markdown",
   "metadata": {},
   "source": [
    "# Bisección para múltiples raíces"
   ]
  },
  {
   "cell_type": "code",
   "execution_count": 16,
   "metadata": {
    "collapsed": false
   },
   "outputs": [],
   "source": [
    "def biseccion_all(a,b,f,h,tol,maxiter):\n",
    "    nraiz = 0\n",
    "    raices = []\n",
    "    xi = a\n",
    "    xd = xi + h\n",
    "    yi, yd = f(xi), f(xd)\n",
    "    \n",
    "    while xd<b:\n",
    "        if yi*yd<0:\n",
    "            nraiz +=1\n",
    "            raiz, __ = biseccion(xi,xd,f,tol,maxiter)\n",
    "            raices.append(raiz)\n",
    "            xi, yi = xd, yd\n",
    "            xd, yd = xi+h,f(xd)\n",
    "    return raices, nraiz\n",
    "    "
   ]
  },
  {
   "cell_type": "code",
   "execution_count": 18,
   "metadata": {
    "collapsed": false
   },
   "outputs": [
    {
     "ename": "SyntaxError",
     "evalue": "non-keyword arg after keyword arg (<ipython-input-18-e16574ea34ba>, line 1)",
     "output_type": "error",
     "traceback": [
      "\u001b[1;36m  File \u001b[1;32m\"<ipython-input-18-e16574ea34ba>\"\u001b[1;36m, line \u001b[1;32m1\u001b[0m\n\u001b[1;33m    raices,n = biseccion_all(a= -1*np.pi -1,b= np.pi +1,0.5,funcion_analitica,h= 1,tol=1e-5 ,maxiter= 1e7)#1e-5\u001b[0m\n\u001b[1;31mSyntaxError\u001b[0m\u001b[1;31m:\u001b[0m non-keyword arg after keyword arg\n"
     ]
    }
   ],
   "source": [
    "raices,n = biseccion_all(a = -1*np.pi -1,b= np.pi +1,0.5,funcion_analitica,h= 1,tol=1e-5 ,maxiter= 1e7)#1e-5"
   ]
  },
  {
   "cell_type": "code",
   "execution_count": null,
   "metadata": {
    "collapsed": true
   },
   "outputs": [],
   "source": []
  }
 ],
 "metadata": {
  "kernelspec": {
   "display_name": "Anaconda 2",
   "language": "python",
   "name": "python2"
  },
  "language_info": {
   "codemirror_mode": {
    "name": "ipython",
    "version": 2
   },
   "file_extension": ".py",
   "mimetype": "text/x-python",
   "name": "python",
   "nbconvert_exporter": "python",
   "pygments_lexer": "ipython2",
   "version": "2.7.12"
  }
 },
 "nbformat": 4,
 "nbformat_minor": 1
}
