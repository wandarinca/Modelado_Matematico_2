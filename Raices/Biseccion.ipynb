{
 "cells": [
  {
   "cell_type": "markdown",
   "metadata": {},
   "source": [
    "# Raices de ecuaciones algebraicas trascendentales\n",
    "\n",
    "1) Separación de raices\n",
    "\n",
    "2) Proceso iterativo del aumento de la precisión hasta lograr la tolerancia sugerida \n",
    "\n",
    "Teorema 1: Si una función continua adquiere valores de distinto signo en los extremos del segmento, entonces dentro del segmento existe por lo menos una raíz de la ecuación.\n",
    "\n",
    "## Computar la precision"
   ]
  },
  {
   "cell_type": "code",
   "execution_count": 3,
   "metadata": {
    "collapsed": true
   },
   "outputs": [],
   "source": [
    "import numpy as np\n",
    "from sympy import *\n",
    "import matplotlib.pyplot as plt\n",
    "import random\n",
    "import scipy.integrate as sci_integrate\n",
    "from scipy.misc import comb\n",
    "from sympy import integrate as sym_integrate\n",
    "%matplotlib inline"
   ]
  },
  {
   "cell_type": "code",
   "execution_count": 4,
   "metadata": {
    "collapsed": true
   },
   "outputs": [],
   "source": [
    "def funcion_analitica(x):\n",
    "    return np.sin(x)\n",
    "    #return x**2\n",
    "    #return np.sqrt(x)\n",
    "    "
   ]
  },
  {
   "cell_type": "code",
   "execution_count": 5,
   "metadata": {
    "collapsed": true
   },
   "outputs": [],
   "source": [
    "#http://ww2.odu.edu/~agodunov/computing/programs/cpp/quanc8.cpp quanc8 Newton-Cotes (8 Panel) Adaptive Quadrature."
   ]
  },
  {
   "cell_type": "markdown",
   "metadata": {},
   "source": [
    "# Métodos de Bisección (una raiz)\n",
    "\n",
    "En matemáticas, el método de bisección es un algoritmo de búsqueda de raíces que trabaja dividiendo el intervalo a la mitad y seleccionando el subintervalo que tiene la raíz.\n",
    "\n",
    "\n",
    "**Ventajas**\n",
    "- Convergencia garantizada\n",
    "\n",
    "\n",
    "**Desventajas**\n",
    "- Lento!\n"
   ]
  },
  {
   "cell_type": "code",
   "execution_count": 6,
   "metadata": {
    "collapsed": true
   },
   "outputs": [],
   "source": [
    "def biseccion(a, b, f, tol,maxiter):\n",
    "    c = (a+b)/2.\n",
    "    anch = b-a\n",
    "    if f(a)*f(b)>=0:\n",
    "        print \"La funcion debe tener diferente signo en a y b!\"\n",
    "        return 0, 0,0\n",
    "    else:\n",
    "        i = 0\n",
    "        while f(c)!= 0 or anch<= tol:\n",
    "            i+=1 \n",
    "            if f(a)*f(c)>0:\n",
    "                #print \"muevo izq\"\n",
    "                b = c\n",
    "            else:\n",
    "                #print \"muevo der\"\n",
    "                a = c\n",
    "            c = (a+b)/2.\n",
    "            anch = b - a\n",
    "            raiz = c\n",
    "            error = np.abs(b-a)\n",
    "            if maxiter is not None:\n",
    "                if i >= maxiter:\n",
    "                    break\n",
    "        print \"Raiz en: \",raiz\n",
    "        print \"f(x): \",f(raiz)\n",
    "        print \"numero de iteraciones: \",i\n",
    "        print \"error: \", error\n",
    "        return raiz, f(raiz),error\n",
    "    "
   ]
  },
  {
   "cell_type": "code",
   "execution_count": null,
   "metadata": {
    "collapsed": false
   },
   "outputs": [],
   "source": [
    "raiz,f,error = biseccion( np.pi -0.5, np.pi +0.5,funcion_analitica, tol=1e-6 ,maxiter=1e9)#1e-5"
   ]
  },
  {
   "cell_type": "markdown",
   "metadata": {},
   "source": [
    "# Bisección para múltiples raíces"
   ]
  },
  {
   "cell_type": "code",
   "execution_count": null,
   "metadata": {
    "collapsed": false
   },
   "outputs": [],
   "source": [
    "def biseccion_all(a,b,f,h,tol,maxiter):\n",
    "    nraiz = 0\n",
    "    raices = []\n",
    "    xi = a\n",
    "    xd = xi + h\n",
    "    yi, yd = f(xi), f(xd)\n",
    "    \n",
    "    while xd<b:\n",
    "        if yi*yd<0:\n",
    "            nraiz +=1\n",
    "            raiz, __,__ = biseccion(xi,xd,f,tol,maxiter)\n",
    "            raices.append(raiz)\n",
    "            xi, yi = xd, yd\n",
    "            xd, yd = xi+h,f(xd)\n",
    "    return raices, nraiz\n",
    "    "
   ]
  },
  {
   "cell_type": "code",
   "execution_count": null,
   "metadata": {
    "collapsed": false
   },
   "outputs": [],
   "source": [
    "raices,n = biseccion_all(a = -1*np.pi -0.05,b= np.pi +0.05,0.5,funcion_analitica,h= 1,tol=1e-5 ,maxiter= 1e7)#1e-5"
   ]
  },
  {
   "cell_type": "code",
   "execution_count": null,
   "metadata": {
    "collapsed": true
   },
   "outputs": [],
   "source": []
  }
 ],
 "metadata": {
  "kernelspec": {
   "display_name": "Anaconda 2",
   "language": "python",
   "name": "python2"
  },
  "language_info": {
   "codemirror_mode": {
    "name": "ipython",
    "version": 2
   },
   "file_extension": ".py",
   "mimetype": "text/x-python",
   "name": "python",
   "nbconvert_exporter": "python",
   "pygments_lexer": "ipython2",
   "version": "2.7.12"
  }
 },
 "nbformat": 4,
 "nbformat_minor": 1
}
