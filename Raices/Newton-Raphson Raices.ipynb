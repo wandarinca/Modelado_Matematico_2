{
 "cells": [
  {
   "cell_type": "code",
   "execution_count": 8,
   "metadata": {
    "collapsed": true
   },
   "outputs": [],
   "source": [
    "import numpy as np\n",
    "from sympy import *\n",
    "import matplotlib.pyplot as plt\n",
    "import random\n",
    "import scipy.integrate as sci_integrate\n",
    "from scipy.misc import comb\n",
    "from sympy import integrate as sym_integrate\n",
    "%matplotlib inline"
   ]
  },
  {
   "cell_type": "markdown",
   "metadata": {},
   "source": [
    "# Método de Newton-Raphson"
   ]
  },
  {
   "cell_type": "code",
   "execution_count": 9,
   "metadata": {
    "collapsed": true
   },
   "outputs": [],
   "source": [
    "def funcion_analitica(xn):\n",
    "    x = Symbol('x')\n",
    "    #f = x**3+x\n",
    "    f = sin(x)\n",
    "    df = diff(f)\n",
    "    return float(f.evalf(subs={x:xn})), float(df.evalf(subs={x:xn})) "
   ]
  },
  {
   "cell_type": "code",
   "execution_count": 14,
   "metadata": {
    "collapsed": true
   },
   "outputs": [],
   "source": [
    "def newton_raphson(a,tol):\n",
    "    xn = a\n",
    "    f,df = funcion_analitica(xn)\n",
    "    i = 0\n",
    "    print xn\n",
    "    while np.abs(f-0)>tol:\n",
    "        xn = xn-f/df\n",
    "        print xn\n",
    "        f,df = funcion_analitica(xn)\n",
    "        i+=1\n",
    "    print \"Raiz en: \",xn\n",
    "    print \"f(x): \",f\n",
    "    print \"numero de iteraciones: \",i\n",
    "    return xn, f\n"
   ]
  },
  {
   "cell_type": "code",
   "execution_count": 17,
   "metadata": {
    "collapsed": false
   },
   "outputs": [
    {
     "name": "stdout",
     "output_type": "stream",
     "text": [
      "-2\n",
      "-4.18503986326\n",
      "-2.46789367451\n",
      "-3.26618627757\n",
      "-3.14094391232\n",
      "-3.14159265368\n",
      "Raiz en:  -3.14159265368\n",
      "f(x):  9.10110761128e-11\n",
      "numero de iteraciones:  5\n"
     ]
    }
   ],
   "source": [
    "raiz, f = newton_raphson(-2,tol=1e-7)"
   ]
  },
  {
   "cell_type": "code",
   "execution_count": null,
   "metadata": {
    "collapsed": true
   },
   "outputs": [],
   "source": []
  }
 ],
 "metadata": {
  "kernelspec": {
   "display_name": "Anaconda 2",
   "language": "python",
   "name": "python2"
  },
  "language_info": {
   "codemirror_mode": {
    "name": "ipython",
    "version": 2
   },
   "file_extension": ".py",
   "mimetype": "text/x-python",
   "name": "python",
   "nbconvert_exporter": "python",
   "pygments_lexer": "ipython2",
   "version": "2.7.12"
  }
 },
 "nbformat": 4,
 "nbformat_minor": 1
}
