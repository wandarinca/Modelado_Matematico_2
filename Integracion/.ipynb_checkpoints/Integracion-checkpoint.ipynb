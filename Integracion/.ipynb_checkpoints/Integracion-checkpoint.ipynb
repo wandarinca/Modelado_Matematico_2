{
 "cells": [
  {
   "cell_type": "code",
   "execution_count": 7,
   "metadata": {
    "collapsed": true
   },
   "outputs": [],
   "source": [
    "import numpy as np\n",
    "from sympy import *\n",
    "import matplotlib.pyplot as plt\n",
    "import random\n",
    "import scipy.integrate as sci_integrate\n",
    "from scipy.misc import comb\n",
    "from sympy import integrate as sym_integrate\n",
    "%matplotlib inline"
   ]
  },
  {
   "cell_type": "markdown",
   "metadata": {},
   "source": [
    "# Defino función analítica e intervalo de integracion"
   ]
  },
  {
   "cell_type": "code",
   "execution_count": 8,
   "metadata": {
    "collapsed": true
   },
   "outputs": [],
   "source": [
    "lim_a = 0.\n",
    "lim_b = np.pi"
   ]
  },
  {
   "cell_type": "code",
   "execution_count": 9,
   "metadata": {
    "collapsed": true
   },
   "outputs": [],
   "source": [
    "def funcion_analitica(x):\n",
    "    return np.sin(x)\n",
    "    #return x**2\n",
    "    #return np.sqrt(x)"
   ]
  },
  {
   "cell_type": "markdown",
   "metadata": {},
   "source": [
    "## Solucion analítica"
   ]
  },
  {
   "cell_type": "code",
   "execution_count": 11,
   "metadata": {
    "collapsed": false
   },
   "outputs": [
    {
     "data": {
      "text/plain": [
       "2.00000000000000"
      ]
     },
     "execution_count": 11,
     "metadata": {},
     "output_type": "execute_result"
    }
   ],
   "source": [
    "# Analitica\n",
    "x = Symbol('x')\n",
    "integral = sym_integrate(sin(x),(x,lim_a,lim_b))\n",
    "integral"
   ]
  },
  {
   "cell_type": "markdown",
   "metadata": {},
   "source": [
    "# Metodo de trapecios"
   ]
  },
  {
   "cell_type": "code",
   "execution_count": 12,
   "metadata": {
    "collapsed": true
   },
   "outputs": [],
   "source": [
    "def integral_trapecios(f,a,b,n):\n",
    "    area = 0 # area bajo la curva\n",
    "    h = (b-a)/n\n",
    "    x = [a]\n",
    "    y = [f(a)]\n",
    "    for i in range(n): # cada segmento\n",
    "        xi = a + h*i #x0 y x1\n",
    "        xi1 = a+ h*(i+1)\n",
    "        yi,yi1 = f(xi),f(xi1)\n",
    "        area_trap = (h/2.)*(yi+yi1)\n",
    "        area += area_trap\n",
    "        x.append(xi1)\n",
    "        y.append(yi1)\n",
    "    return area,x,y\n",
    "        "
   ]
  },
  {
   "cell_type": "code",
   "execution_count": 13,
   "metadata": {
    "collapsed": false
   },
   "outputs": [
    {
     "name": "stdout",
     "output_type": "stream",
     "text": [
      "Metodo de trapecios:  1.96631667877\n"
     ]
    }
   ],
   "source": [
    "integral, x, y = integral_trapecios(funcion_analitica,lim_a,lim_b,7)\n",
    "print \"Metodo de trapecios: \",integral"
   ]
  },
  {
   "cell_type": "code",
   "execution_count": 14,
   "metadata": {
    "collapsed": false
   },
   "outputs": [
    {
     "data": {
      "text/plain": [
       "[<matplotlib.lines.Line2D at 0x7fbd84c46150>]"
      ]
     },
     "execution_count": 14,
     "metadata": {},
     "output_type": "execute_result"
    },
    {
     "data": {
      "image/png": "[encoded data removed]",
      "text/plain": [
       "<matplotlib.figure.Figure at 0x7fbd84c46190>"
      ]
     },
     "metadata": {},
     "output_type": "display_data"
    }
   ],
   "source": [
    "plt.plot(np.linspace(lim_a,lim_b,100),funcion_analitica(np.linspace(lim_a,lim_b,100)),c=\"r\")\n",
    "plt.plot(x,y,c=\"b\")"
   ]
  },
  {
   "cell_type": "markdown",
   "metadata": {},
   "source": [
    "# Metodo de Simpson 1/3\n",
    "\n",
    "La regla de Simpson 1/3 utiliza tres puntos consecutivos en donde se evalúa la función a través de un polinomio de segundo grado.\n",
    "\n",
    "https://es.wikipedia.org/wiki/Regla_de_Simpson"
   ]
  },
  {
   "cell_type": "code",
   "execution_count": 19,
   "metadata": {
    "collapsed": true
   },
   "outputs": [],
   "source": [
    "def integral_simpson(f,a,b,n):\n",
    "    suma = 0 \n",
    "    h = (b-a)/n\n",
    "    for i in range(1,n): # terminos del medio\n",
    "        #print i\n",
    "        xi = a + h*(i) #x0 y x1\n",
    "        if i%2 == 0: \n",
    "            suma+=2*f(xi)\n",
    "        else:\n",
    "            suma+=4*f(xi)\n",
    "    suma = (h/3.)*(f(a)+suma+f(b))\n",
    "    return suma\n",
    "        "
   ]
  },
  {
   "cell_type": "code",
   "execution_count": 20,
   "metadata": {
    "collapsed": false
   },
   "outputs": [
    {
     "name": "stdout",
     "output_type": "stream",
     "text": [
      "Metodo numerico python scipy:  2.0\n",
      "Metodo de Simpson:  2.00010951732\n"
     ]
    }
   ],
   "source": [
    "result0 = sci_integrate.quad(funcion_analitica, lim_a, lim_b)\n",
    "print \"Metodo numerico python scipy: \",result0[0]\n",
    "integral = integral_simpson(funcion_analitica, lim_a, lim_b, 10)\n",
    "print \"Metodo de Simpson: \",integral"
   ]
  },
  {
   "cell_type": "markdown",
   "metadata": {},
   "source": [
    "# Metodo de Gauss\n",
    "\n",
    "Una cuadratura de Gauss n, es una cuadratura que selecciona los puntos de la evaluación de manera óptima y no en una forma igualmente espaciada."
   ]
  },
  {
   "cell_type": "code",
   "execution_count": 29,
   "metadata": {
    "collapsed": true
   },
   "outputs": [],
   "source": [
    "def legendre_rodrigues(n):\n",
    "    \"Retorna polinomio de legendre grado n\"\n",
    "    suma = 0\n",
    "    x = symbols('x')\n",
    "    polinomio = 0 #POLINOMIO SOLUCION\n",
    "    for k in range(n+1):\n",
    "        tmp = (comb(n,k)**2)*((x+1.)**(n-k))*(x-1.)**k\n",
    "        suma = suma+tmp\n",
    "    p = (1.0/(2.**n))*suma\n",
    "    return p\n",
    "\n",
    "def cuadratura_gauss(a,b,n,f):\n",
    "    #Obtengo los 0's del polinomio de legendre con formula de rodrigues\n",
    "    x = Symbol('x')\n",
    "    zeros = solve(legendre_rodrigues(n),x) #Pn tiene n 0's\n",
    "    \n",
    "    #0's son mis xi (nodos) y los puedo elevar a un numero, ahora es un sistema lineal :D\n",
    "    #Derivada del polinomio\n",
    "    DPn = diff(legendre_rodrigues(n)) \n",
    "    integ = 0\n",
    "    #Despejo coeficientes Wi\n",
    "    \n",
    "    w = []\n",
    "    \n",
    "    for xi in zeros:\n",
    "        wi = 2./((1.-xi**2)*(DPn.evalf(subs={x:xi}))**2)\n",
    "        w.append(wi)\n",
    "    #print w \n",
    "    # integral de f = sum (wi f(xi))\n",
    "    # Cambio de variables para integrar en (a,b)\n",
    "    integ = 0\n",
    "    for k in range(0,n):\n",
    "        xk = zeros[k]\n",
    "        integ += w[k]*f((b+a)/2. + (b-a)*(float(xk)/2.))\n",
    "    \n",
    "    integ = ((b-a)/2.)*integ\n",
    "    \"\"\"print \"n: \"\n",
    "    print \"Wi: \",w\n",
    "    print \"xk: \",zeros\"\"\"\n",
    "    \n",
    "    for i in range(n):\n",
    "        print \"W\"+str(i)+\": \",w[k],\" x\"+str(i)+\" :\",zeros[i]\n",
    "    return integ"
   ]
  },
  {
   "cell_type": "code",
   "execution_count": 30,
   "metadata": {
    "collapsed": false
   },
   "outputs": [
    {
     "name": "stdout",
     "output_type": "stream",
     "text": [
      "W0:  0.101228536290376  x0 : -0.960289856497536\n",
      "W1:  0.101228536290376  x1 : -0.796666477413627\n",
      "W2:  0.101228536290376  x2 : -0.525532409916329\n",
      "W3:  0.101228536290376  x3 : -0.183434642495650\n",
      "W4:  0.101228536290376  x4 : 0.183434642495650\n",
      "W5:  0.101228536290376  x5 : 0.525532409916329\n",
      "W6:  0.101228536290376  x6 : 0.796666477413627\n",
      "W7:  0.101228536290376  x7 : 0.960289856497536\n",
      "2.00000000000000\n"
     ]
    }
   ],
   "source": [
    "valor = cuadratura_gauss(lim_a, lim_b, 8, funcion_analitica)\n",
    "print valor"
   ]
  },
  {
   "cell_type": "code",
   "execution_count": null,
   "metadata": {
    "collapsed": true
   },
   "outputs": [],
   "source": []
  }
 ],
 "metadata": {
  "kernelspec": {
   "display_name": "Anaconda 2",
   "language": "python",
   "name": "python2"
  },
  "language_info": {
   "codemirror_mode": {
    "name": "ipython",
    "version": 2
   },
   "file_extension": ".py",
   "mimetype": "text/x-python",
   "name": "python",
   "nbconvert_exporter": "python",
   "pygments_lexer": "ipython2",
   "version": "2.7.12"
  }
 },
 "nbformat": 4,
 "nbformat_minor": 1
}
