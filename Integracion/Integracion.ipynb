{
 "cells": [
  {
   "cell_type": "code",
   "execution_count": 111,
   "metadata": {
    "collapsed": true
   },
   "outputs": [],
   "source": [
    "import numpy as np\n",
    "from sympy import *\n",
    "import matplotlib.pyplot as plt\n",
    "import random\n",
    "import scipy.integrate as sci_integrate\n",
    "from sympy import integrate as sym_integrate\n",
    "%matplotlib inline"
   ]
  },
  {
   "cell_type": "code",
   "execution_count": 138,
   "metadata": {
    "collapsed": true
   },
   "outputs": [],
   "source": [
    "def funcion_analitica(x):\n",
    "    #return np.sin(x)\n",
    "    #return x**2\n",
    "    return np.sqrt(x)"
   ]
  },
  {
   "cell_type": "markdown",
   "metadata": {},
   "source": [
    "# Metodo de trapecios"
   ]
  },
  {
   "cell_type": "code",
   "execution_count": 139,
   "metadata": {
    "collapsed": true
   },
   "outputs": [],
   "source": [
    "def integral_trapecios(f,a,b,n):\n",
    "    area = 0 # area bajo la curva\n",
    "    h = (b-a)/n\n",
    "    x = [a]\n",
    "    y = [f(a)]\n",
    "    for i in range(n): # cada segmento\n",
    "        xi = a + h*i #x0 y x1\n",
    "        xi1 = a+ h*(i+1)\n",
    "        yi,yi1 = f(xi),f(xi1)\n",
    "        area_trap = (h/2.)*(yi+yi1)\n",
    "        area += area_trap\n",
    "        x.append(xi1)\n",
    "        y.append(yi1)\n",
    "    return area,x,y\n",
    "        "
   ]
  },
  {
   "cell_type": "code",
   "execution_count": 142,
   "metadata": {
    "collapsed": false
   },
   "outputs": [
    {
     "name": "stdout",
     "output_type": "stream",
     "text": [
      "Metodo numerico python scipy:  10.4997399638\n",
      "Metodo de trapecios:  10.3363428486\n"
     ]
    }
   ],
   "source": [
    "result0 = sci_integrate.quad(funcion_analitica, 0, 2*np.pi)\n",
    "print \"Metodo numerico python scipy: \",result0[0]\n",
    "integral, x, y = integral_trapecios(funcion_analitica,0,2*np.pi,7)\n",
    "print \"Metodo de trapecios: \",integral"
   ]
  },
  {
   "cell_type": "code",
   "execution_count": 143,
   "metadata": {
    "collapsed": false
   },
   "outputs": [
    {
     "data": {
      "text/plain": [
       "[<matplotlib.lines.Line2D at 0x7fd0b90e8c50>]"
      ]
     },
     "execution_count": 143,
     "metadata": {},
     "output_type": "execute_result"
    },
    {
     "data": {
      "image/png": "[encoded data removed]",
      "text/plain": [
       "<matplotlib.figure.Figure at 0x7fd0b90e8cd0>"
      ]
     },
     "metadata": {},
     "output_type": "display_data"
    }
   ],
   "source": [
    "plt.plot(np.linspace(0,2*np.pi,100),funcion_analitica(np.linspace(0,2*np.pi,100)),c=\"r\")\n",
    "plt.plot(x,y,c=\"b\")"
   ]
  },
  {
   "cell_type": "markdown",
   "metadata": {},
   "source": [
    "# Metodo de Simpson 1/3\n",
    "\n",
    "La regla de Simpson 1/3 utiliza tres puntos consecutivos en donde se evalúa la función a través de un polinomio de segundo grado.\n",
    "\n",
    "https://es.wikipedia.org/wiki/Regla_de_Simpson"
   ]
  },
  {
   "cell_type": "code",
   "execution_count": 144,
   "metadata": {
    "collapsed": true
   },
   "outputs": [],
   "source": [
    "def integral_simpson(f,a,b,n):\n",
    "    suma = 0 \n",
    "    h = (b-a)/n\n",
    "    for i in range(1,n-1): # terminos del medio\n",
    "        #print i\n",
    "        xi = a + h*(i) #x0 y x1\n",
    "        if i%2 == 0: \n",
    "            suma+=2*f(xi)\n",
    "        else:\n",
    "            suma+=4*f(xi)\n",
    "    suma = (h/3.)*(f(a)+suma+f(b))\n",
    "    return suma\n",
    "        "
   ]
  },
  {
   "cell_type": "code",
   "execution_count": 145,
   "metadata": {
    "collapsed": false
   },
   "outputs": [
    {
     "name": "stdout",
     "output_type": "stream",
     "text": [
      "Metodo numerico python scipy:  10.4997399638\n",
      "Metodo de Simpson:  8.46712391628\n"
     ]
    }
   ],
   "source": [
    "result0 = sci_integrate.quad(funcion_analitica, 0, 2*np.pi)\n",
    "print \"Metodo numerico python scipy: \",result0[0]\n",
    "integral = integral_simpson(funcion_analitica, 0, 2*np.pi, 10)\n",
    "print \"Metodo de Simpson: \",integral"
   ]
  },
  {
   "cell_type": "markdown",
   "metadata": {},
   "source": [
    "# Metodo de Gauss"
   ]
  },
  {
   "cell_type": "code",
   "execution_count": null,
   "metadata": {
    "collapsed": true
   },
   "outputs": [],
   "source": []
  }
 ],
 "metadata": {
  "kernelspec": {
   "display_name": "Anaconda 2",
   "language": "python",
   "name": "python2"
  },
  "language_info": {
   "codemirror_mode": {
    "name": "ipython",
    "version": 2
   },
   "file_extension": ".py",
   "mimetype": "text/x-python",
   "name": "python",
   "nbconvert_exporter": "python",
   "pygments_lexer": "ipython2",
   "version": "2.7.12"
  }
 },
 "nbformat": 4,
 "nbformat_minor": 1
}
