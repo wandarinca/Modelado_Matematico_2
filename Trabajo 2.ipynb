{
 "cells": [
  {
   "cell_type": "markdown",
   "metadata": {},
   "source": [
    "http://metodsnumericos.blogspot.com.co/2012/06/metodo-de-euler-hacia-delante-y-hacia.html\n",
    "https://portal.camins.upc.edu/materials_guia/250133/2011/EDOs_2.pdf%3Bjsessionid=376136EBB9AE531040FA381BFAA0BD3F <--\n",
    "http://relopezbriega.github.io/blog/2016/01/10/ecuaciones-diferenciales-con-python/\n",
    "\n"
   ]
  },
  {
   "cell_type": "code",
   "execution_count": 1,
   "metadata": {
    "collapsed": false
   },
   "outputs": [],
   "source": [
    "import numpy as np"
   ]
  },
  {
   "cell_type": "markdown",
   "metadata": {},
   "source": [
    "To do\n",
    "\n",
    "- predictor corrector\n"
   ]
  },
  {
   "cell_type": "markdown",
   "metadata": {
    "collapsed": true
   },
   "source": [
    "# Tarea # 1: (problema de Cauchy para ecuaciones diferenciales ordinarias)\n",
    "\n",
    "## a) Resolver el problema de Cauchy para ecuaciones diferencial (9)\n",
    "\n",
    "$$y''(x) + 5y'(x) + 6y(x) = 0$$\n",
    "\n",
    "Con condiciones $y(0) = y_0 = 1$,  $y'(0) = -6$\n",
    "\n",
    "- Reducir a un sistema de ecuaciones lineales de primera orden, aplíquese el método de Euler de segundo orden y encuéntrese los las relaciones de recurrencia \n",
    "    - a) Para un algoritmo explícito \n",
    "    - b) Implícito. \n",
    "    - c) Descríbase un algoritmo predictor-corrector en la base de estas relaciones.\n",
    "    \n",
    "Encuéntrese valores de la función y(x); 0 <=x <= 1 en n =100 nodos.\n"
   ]
  },
  {
   "cell_type": "markdown",
   "metadata": {},
   "source": [
    "## Solución\n",
    "\n",
    "Para reducir el sistema decimos que $y' = z$, y podemos escribir el problema (9)\n",
    "\n",
    "$$z'+5z+6y=0$$  $y(0) =1$, $z(0) = -6$\n",
    "\n",
    "Utilizando las formulas de recurrencia se encuentran los valores de la solución en el intervalo.\n",
    "\n",
    "### Euler hacia adelante explícito\n",
    "\n",
    "$y_{i+1} = y_i + h f(x_i,y_i)$"
   ]
  },
  {
   "cell_type": "code",
   "execution_count": 2,
   "metadata": {
    "collapsed": false
   },
   "outputs": [
    {
     "data": {
      "text/plain": [
       "array([ 1.        ,  0.94118611,  0.88468982,  0.83043114,  0.77833271])"
      ]
     },
     "execution_count": 2,
     "metadata": {},
     "output_type": "execute_result"
    }
   ],
   "source": [
    "def sol_ed(x):\n",
    "    return np.e**(-3*x)*(4.-3*np.e**x)\n",
    "\n",
    "xsol =sol_ed(np.arange(0,1.01,0.01))\n",
    "xsol[:5]"
   ]
  },
  {
   "cell_type": "code",
   "execution_count": 3,
   "metadata": {
    "collapsed": true
   },
   "outputs": [],
   "source": [
    "def euler_adelante(y0, z0, a, b, n):\n",
    "    \"\"\"Encuentra solucion de ecuación f(y,z) usando método de euler hacia adelante.\n",
    "    y0: valor inicial en y\n",
    "    z0: valor inicial en z , z = y'\n",
    "    [a,b]: intervalo de x en el que hay que encontrar los valores de la solución y(x).\n",
    "    n: numero de nodos\"\"\"\n",
    "    #inicializo variables\n",
    "    h = (b - a)/n\n",
    "    yi, zi = y0, z0\n",
    "    \n",
    "    xvect = [a]\n",
    "    yvect = [y0] # y0\n",
    "    zvect = [z0] # y'0\n",
    "    \n",
    "    for i in np.arange(a+h,b+h,h):\n",
    "        yprima = zi\n",
    "        zprima = -5.*zi-6.*yi\n",
    "        yi = yi + h*yprima\n",
    "        zi = zi + h*zprima\n",
    "        #agrego y's y z's \n",
    "        xvect.append(i)\n",
    "        yvect.append(yi)\n",
    "        zvect.append(zi)\n",
    "        \n",
    "    return xvect, yvect, zvect\n",
    "    "
   ]
  },
  {
   "cell_type": "code",
   "execution_count": 4,
   "metadata": {
    "collapsed": false
   },
   "outputs": [
    {
     "name": "stdout",
     "output_type": "stream",
     "text": [
      "x:  [0.0, 0.01, 0.02, 0.029999999999999999, 0.040000000000000001] \n",
      "\n",
      "y:  [1.0, 0.94, 0.8824, 0.827116, 0.77406676]\n",
      "y real:  [ 1.          0.94118611  0.88468982  0.83043114  0.77833271] \n",
      "\n",
      "z:  [-6.0, -5.76, -5.5283999999999995, -5.304924, -5.08930476]\n"
     ]
    },
    {
     "data": {
      "text/plain": [
       "6.5718629428724212e-05"
      ]
     },
     "execution_count": 4,
     "metadata": {},
     "output_type": "execute_result"
    }
   ],
   "source": [
    "x1, y1, z1 = euler_adelante(1.,-6., 0., 1., 100.)\n",
    "\n",
    "print \"x: \", x1[:5], \"\\n\"\n",
    "print \"y: \", y1[:5]\n",
    "print \"y real: \", xsol[:5], \"\\n\"\n",
    "print \"z: \", z1[:5]\n",
    "\n",
    "euler_adelante =  ((np.array(y1) - np.array(xsol)) ** 2).mean() #error cuadrado\n",
    "euler_adelante"
   ]
  },
  {
   "cell_type": "markdown",
   "metadata": {},
   "source": [
    "### Euler hacia atrás\n",
    "\n",
    "$y_{i+1} = y_i + h f(x_{i+1},y_{i+1})$"
   ]
  },
  {
   "cell_type": "code",
   "execution_count": 5,
   "metadata": {
    "collapsed": true
   },
   "outputs": [],
   "source": [
    "def euler_atras(y0, z0, a, b, n):\n",
    "    \"\"\"Encuentra solucion de ecuación f(y,z) usando método de euler hacia atras.\n",
    "    y0: valor inicial en y\n",
    "    z0: valor inicial en z\n",
    "    [a,b]: intervalo de x en el que hay que encontrar los valores de la solución y(x).\n",
    "    n: numero de nodos\"\"\"\n",
    "    #inicializo variables\n",
    "    h = (b - a)/n\n",
    "    yi, zi = y0, z0\n",
    "    \n",
    "    xvect = [a]\n",
    "    yvect = [y0] # y0\n",
    "    zvect = [z0] # y'0\n",
    "    \n",
    "    \n",
    "    for i in np.arange(a+h,b+h,h):\n",
    "        yprima = zi #f(xi,yi)\n",
    "        zprima = -5.*zi-6.*yi # f'(xi,yi)\n",
    "        \n",
    "        yi_1 = yi + h*yprima # yi+1\n",
    "        zi_1 = zi + h*zprima # zi+1\n",
    "        yprima_ = zi_1 #f(xi+1,yi+1)\n",
    "        zprima_ = -5.*zi_1-6.*yi_1 # f'(xi+1,yi+1)\n",
    "        \n",
    "        yi = yi + h*yprima_ # ' yi+1 se calcula con  z' y y' de xi+1 y yi+1\n",
    "        zi = zi + h*zprima_ # ' zi+1 se calcula con  z' y y' de xi+1 y yi+1\n",
    "        # agrego y's y z's \n",
    "        xvect.append(i)\n",
    "        yvect.append(yi)\n",
    "        zvect.append(zi)\n",
    "        \n",
    "    return xvect, yvect, zvect\n",
    "    "
   ]
  },
  {
   "cell_type": "code",
   "execution_count": 6,
   "metadata": {
    "collapsed": false
   },
   "outputs": [
    {
     "name": "stdout",
     "output_type": "stream",
     "text": [
      "x:  [0.0, 0.01, 0.02, 0.029999999999999999, 0.040000000000000001] \n",
      "\n",
      "y:  [1.0, 0.9424, 0.88703476, 0.8338282999240001, 0.7827070653079877]\n",
      "y real:  [ 1.          0.94118611  0.88468982  0.83043114  0.77833271] \n",
      "\n",
      "z:  [-6.0, -5.7684, -5.54465676, -5.3285197511639995, -5.119746164228679]\n"
     ]
    },
    {
     "data": {
      "text/plain": [
       "7.3120289540877634e-05"
      ]
     },
     "execution_count": 6,
     "metadata": {},
     "output_type": "execute_result"
    }
   ],
   "source": [
    "x2, y2, z2 = euler_atras(1.,-6., 0., 1., 100)\n",
    "\n",
    "print \"x: \",x2[:5], \"\\n\"\n",
    "print \"y: \",y2[:5]\n",
    "print \"y real: \",xsol[:5], \"\\n\"\n",
    "print \"z: \",z2[:5]\n",
    "\n",
    "euler_atras = ((np.array(y2) - np.array(xsol)) ** 2).mean() #error cuadrado\n",
    "euler_atras"
   ]
  },
  {
   "cell_type": "markdown",
   "metadata": {},
   "source": [
    "## Método Predictor corrector\n",
    "\n",
    "Este método consta de un paso predictor que estima la solución  y un paso corrector que mejora la precisión en cada intervalo.\n",
    "\n",
    "\n",
    "**Predictor**\n",
    "\n",
    "$y'(x) = f(x,y)$, $y(x_0)=y_0$ \n",
    "\n",
    "$\\tilde{y}_{i+1} = y_i + hf(x_i,y_i)$. Es Euler hacia adelante.\n",
    "\n",
    "\n",
    "**Corrector**\n",
    "\n",
    "$y_{i+1}=y_i+\\frac{h(f(x_i,y_i)+f(x_{i+1},\\tilde{y}_{i+1}))}{2}$  Es un trapezoide.\n",
    "\n",
    "Hay variaciones de este método, se puede hacer el segundo paso varias veces, corregir hasta que el error sea menor que una tolerancia.\n"
   ]
  },
  {
   "cell_type": "code",
   "execution_count": 7,
   "metadata": {
    "collapsed": true
   },
   "outputs": [],
   "source": [
    "def predictor_corrector(y0, z0, a, b, n):\n",
    "    \"\"\"Encuentra solucion de ecuación f(y,z) usando método predictor corrector\n",
    "    con predictor de euler hacia adelante.\n",
    "    y0: valor inicial en y\n",
    "    z0: valor inicial en z\n",
    "    [a,b]: intervalo de x en el que hay que encontrar los valores de la solución y(x).\n",
    "    n: numero de nodos\"\"\"\n",
    "    #inicializo variables\n",
    "    h = (b - a)/n\n",
    "    yi, zi = y0, z0\n",
    "    xvect = [a]\n",
    "    yvect = [y0]\n",
    "    zvect = [z0]\n",
    "    \n",
    "    for i in np.arange(a+h,b+h,h):\n",
    "        # Predictor\n",
    "        yprima = zi\n",
    "        zprima = (-5.*zi)-(6.*yi)\n",
    "        yi_ = yi + h*yprima  #euler hacia adelante\n",
    "        zi_ = zi + h*zprima\n",
    "        \n",
    "        yprima_ = zi_\n",
    "        zprima_ = (-5.*zi_)-(6.*yi_)\n",
    "        \n",
    "        # Corrector\n",
    "        yi = yi +(h*(yprima+yprima_))/2. #y_i+1 = yi+ h()\n",
    "        zi = zi + (h*(zprima+zprima_))/2.\n",
    "        \n",
    "        #agrego y's y z's \n",
    "        xvect.append(i)\n",
    "        yvect.append(yi)\n",
    "        zvect.append(zi)\n",
    "        \n",
    "    return xvect, yvect, zvect"
   ]
  },
  {
   "cell_type": "code",
   "execution_count": 8,
   "metadata": {
    "collapsed": false
   },
   "outputs": [
    {
     "name": "stdout",
     "output_type": "stream",
     "text": [
      "y:  [1.0, 0.9412, 0.8847166900000001, 0.8304701446405001, 0.7783830274063392, 0.7283805096307566, 0.6803901919818938, 0.6343420283566225]\n",
      "y real:  [ 1.          0.94118611  0.88468982  0.83043114  0.77833271  0.72831965\n",
      "  0.68031954  0.63426228] \n",
      "\n"
     ]
    },
    {
     "data": {
      "text/plain": [
       "1.2310332083648734e-08"
      ]
     },
     "execution_count": 8,
     "metadata": {},
     "output_type": "execute_result"
    }
   ],
   "source": [
    "x3, y3, z3 = predictor_corrector(y0=1.,z0=-6., a=0., b=1., n=100.)\n",
    "#print \"x: \",x3[:5], \"\\n\"\n",
    "print \"y: \",y3[:8]\n",
    "print \"y real: \",xsol[:8], \"\\n\"\n",
    "#print \"z: \",z3[:5]\n",
    "\n",
    "pred_corr = ((np.array(y3) - np.array(xsol)) ** 2).mean() #error cuadrado\n",
    "pred_corr"
   ]
  },
  {
   "cell_type": "markdown",
   "metadata": {},
   "source": [
    "# b) Resolver el problema de Cauchy para sistemas de ecuaciones diferenciales \n",
    "\n",
    "- Describa un algoritmo que permita estimar valores de las funciones $\\{y_1(t1), y_2(t1)\\}$ usando las fórmulas de Runge-Kutta con la precisión $\\varepsilon$ = 0.0001 utilizando el esquema de Runge para estimar el valor del error posible y disminuyendo sucesivamente el paso de la integración $h_0 = 0.1$, $h_{i+1}=h_i/2, i = 1,2,3,...$\n",
    "\n",
    "$$\\dot{x} = 3x+y$$  \n",
    "$$\\dot{y}=x+y-1$$\n",
    "\n",
    "$x(0)=1/3$,  $y(0)=-1/3$"
   ]
  },
  {
   "cell_type": "markdown",
   "metadata": {
    "collapsed": true
   },
   "source": [
    "**Runge Kutta**\n",
    "\n",
    "En los métodos de Runge-Kutta, el orden de precisión aumenta al utilizar puntos intermedios en cada intervalo. Una mayor precision implica además que los errores decrecen más rápido al reducir h, en comparaciOn con los métodos con precisión baja.\n",
    "\n",
    "$$\\frac{dx}{dt}= y_1(x,y,t) =3x +y$$\n",
    "\n",
    "$$\\frac{dy}{dt}= y_2(x,y,t) =x+y-1$$\n",
    "\n",
    "$k_1=h y_1(x,y,t)$    \n",
    "\n",
    "$k_2=h y_1(x+k_1/2,y+l_1/2,t+h/2)$\n",
    "\n",
    "$k_3=h y_1(x+k_2/2,y+l_2/2,t+h/2)$  \n",
    "\n",
    "$k_4=h y_1(x+k_3,y+l_3,t+h)$        \n",
    "<br>\n",
    "$l_1=h y_2(x,y,t)$\n",
    "\n",
    "$l_2=h y_2(x+k_1/2,y+l_1/2,t+h/2)$\n",
    "\n",
    "$l_3=h y_2(x+k_2/2,y+l_2/2,t+h/2)$\n",
    "\n",
    "$l_4=h y_2(x+k_3,y+l_3,t+h)$\n",
    "\n",
    "$$x(t+h)= x(t)+(k_1+2k_2+2k_3+k_4)/6$$\n",
    "$$y(t+h)= y(t)+(l_1+2l_2+2l_3+k_4)/6$$"
   ]
  },
  {
   "cell_type": "code",
   "execution_count": 63,
   "metadata": {
    "collapsed": false
   },
   "outputs": [],
   "source": [
    "def f(x, y):\n",
    "    result = 3.*x+y\n",
    "    return result\n",
    "\n",
    "def g(x, y):\n",
    "     result = x+y-1.\n",
    "    return result\n",
    "\n",
    "def runge_kutta(x0, y0, t0, h, y1, y2, t):\n",
    "    \"\"\"\n",
    "    Metodo de runge-kutta para resolver sistema de edo.\n",
    "    \n",
    "    t0: valor inicial\n",
    "    x0: valor de x(t0), y0: valor de y(t0)\n",
    "    \n",
    "    retorna el valor de las funciones x y y en t.\"\"\"\n",
    "    \n",
    "    x = x0\n",
    "    y = y0\n",
    "    \n",
    "    xs = [x0]\n",
    "    ys = [y0]\n",
    "    \n",
    "    for i in np.arange(t0, t+h, h):\n",
    "        k1 = h*y1(x,y)\n",
    "        l1 = h*y2(x,y)\n",
    "\n",
    "        k2 = h*y1(x+k1/2.,y+l1/2.)\n",
    "        l2 = h*y2(x+k1/2.,y+l1/2.)\n",
    "\n",
    "        k3 = h*y1(x+k2/2.,y+l2/2.)\n",
    "        l3 = h*y2(x+k2/2.,y+l2/2.)\n",
    "\n",
    "        k4 = h*y1(x+k3,y+l3)\n",
    "        l4 = h*y2(x+k3,y+l3)\n",
    "        \n",
    "        x = x+(k1+(2.*k2)+(2.*k3)+k4)/6.\n",
    "        y = y+(l1+(2.*l2)+2.*l3+l4)/6.\n",
    "        xs.append(x)\n",
    "        ys.append(x)\n",
    "        \n",
    "    return xs[-1], ys[-1]\n"
   ]
  },
  {
   "cell_type": "code",
   "execution_count": 64,
   "metadata": {
    "collapsed": false
   },
   "outputs": [
    {
     "name": "stdout",
     "output_type": "stream",
     "text": [
      "y1(t1):  60.2857550204 , y2(t1):  60.2857550204\n",
      "h:  3.81469726563e-07\n",
      "iteraciones:  18\n"
     ]
    }
   ],
   "source": [
    "h = 0.1 # h0 inicial\n",
    "tol = 0.0001\n",
    "iters = 0\n",
    "\n",
    "x,y= runge_kutta(x0 = 1./3, y0 = -1./3, t0 = 0, h = h, y1=f, y2=g, t=2)\n",
    "x_,y_ = runge_kutta(x0 = 1./3, y0 = -1./3, t0 = 0, h = h/2., y1=f, y2=g, t=2)\n",
    "\n",
    "while np.abs(x-x_)>tol and np.abs(y-y_) >tol:\n",
    "    x,y= runge_kutta(x0 = 1./3, y0 = -1./3, t0 = 0, h = h, y1 = f, y2 = g, t=2)\n",
    "    x_,y_ = runge_kutta(x0= 1./3, y0 = -1./3, t0 = 0, h = h/2., y1=f, y2=g, t=2)\n",
    "    h = h/2.\n",
    "    iters += 1\n",
    "print \"y1(t1): \",x,\", y2(t1): \",y\n",
    "print \"h: \",h\n",
    "print \"iteraciones: \",iters\n",
    "    "
   ]
  },
  {
   "cell_type": "markdown",
   "metadata": {},
   "source": [
    "# Tarea 2\n",
    "## a) Encuentre la solución del problema de frontera con el paso h= 0.01 en cada caso.\n",
    "\n",
    "Utilizando los métodos a) de disparos, b) diferencias finitos y c) de Numerov, encuéntrese la solución del problema de frontera con el paso h= 0.01 en cada caso.\n",
    "(problema 9)\n",
    "\n",
    "$$y''-\\frac{y'}{2}+3y=2x^2$$\n",
    "\n",
    "$y(1)+2y'(1)=0.6$\n",
    "\n",
    "$y(1.3)=1$"
   ]
  },
  {
   "cell_type": "markdown",
   "metadata": {},
   "source": [
    "**Método de colocación**\n",
    "\n",
    "Es un problema de ecuación de segundo orden con una condición de frontera mixta.\n",
    "\n",
    "$\\alpha_0 = 1$, $\\alpha_1 = 0$\n",
    "$\\beta_0 = 1$, $\\beta_1 = 2$\n",
    "\n",
    "Si elegimos la función de base \n",
    "\n",
    "$$\\phi_0(x) = \\delta + \\gamma_0 x$$ y resolvemos el sistema\n",
    "\n",
    "$1=\\delta+1.3\\gamma_0$\n",
    "$0.6=\\delta+3\\gamma_0$ \n",
    "\n",
    "Obtenemos $\\delta = \\frac{111}{85}$, $\\gamma_0 = \\frac{-4}{17}$"
   ]
  },
  {
   "cell_type": "code",
   "execution_count": 14,
   "metadata": {
    "collapsed": true
   },
   "outputs": [],
   "source": [
    "from sympy import *"
   ]
  },
  {
   "cell_type": "code",
   "execution_count": 32,
   "metadata": {
    "collapsed": false
   },
   "outputs": [],
   "source": [
    "def func_base(d,Y):\n",
    "    x = symbols('x')\n",
    "    return d + Y*x\n",
    "\n",
    "\n",
    "def met_colocacion(a,b,h,phi,alpha0,beta0,beta1,d,Y0):\n",
    "    x = symbols('x')\n",
    "    n = (b-a)/h\n",
    "    Phi0 = func_base(d,Y0)\n",
    "    Phi0_ = Phi0.diff(x)\n",
    "    Phi0__ = Phi0_.diff(x)\n",
    "    Ys = []#sumas van desde 1\n",
    "    #ci = []\n",
    "    Phis = []\n",
    "    xeval = a\n",
    "    \n",
    "    cs = []\n",
    "    \n",
    "    p = -1./2\n",
    "    q = 3.\n",
    "    f = 2.*(x**2)\n",
    "    \n",
    "    xs = [a]\n",
    "    \n",
    "    for i in range(1,int(n)): #se tienen condiciones en los extremos 0 y n \n",
    "        xeval = xeval+h\n",
    "        xs.append(xeval)\n",
    "        Yi = -(beta0*((b-a)**2)+((i+1)*beta1*(b-a)))/(beta0*(b-a)+i*beta1)\n",
    "        Phii = Yi*(x-a)**i + (x-a)**(i+1)\n",
    "        Phii_ = Phii.diff(x)\n",
    "        Phii__ = Phii_.diff(x)\n",
    "        \n",
    "        Ys.append(Yi)\n",
    "        Phis.append([Phii,Phii_,Phii__])\n",
    "        \n",
    "        #aij bi cj i es nodo, j \n",
    "        aij = Phii__.evalf(subs={x:xeval}) + p.evalf(subs={x:xeval})*Phii_.evalf(subs={x:xeval}) + q.evalf(subs={x:xeval})*Phii.evalf(subs={x:xeval})\n",
    "        bi = f.evalf(subs={x:xeval}) - Phi0__.evalf(subs={x:xeval}) - p.evalf(subs={x:xeval})*Phi0_.evalf(subs={x:xeval})- q.evalf(subs={x:xeval})*Phi0.evalf(subs={x:xeval})\n",
    "        cj = bi/aij\n",
    "        #y =phi0(xi)+sum(ci*phi(xi))\n",
    "        \n",
    "    \n",
    "    \n",
    "    return Phis,Ys,xs\n",
    "            \n",
    "#yn = Phi0.evalf(subs={x:xeval})+"
   ]
  },
  {
   "cell_type": "code",
   "execution_count": 33,
   "metadata": {
    "collapsed": false
   },
   "outputs": [],
   "source": [
    "P, Y, xs = met_colocacion(a=1.,b=1.3,h=0.01,phi=func_base,alpha0=1,beta0=1,beta1=2,d=111./85,Y0=-4./17)"
   ]
  },
  {
   "cell_type": "code",
   "execution_count": 35,
   "metadata": {
    "collapsed": false
   },
   "outputs": [
    {
     "name": "stdout",
     "output_type": "stream",
     "text": [
      "29\n"
     ]
    }
   ],
   "source": [
    "print len(P)\n",
    "#print xs"
   ]
  },
  {
   "cell_type": "code",
   "execution_count": 24,
   "metadata": {
    "collapsed": true
   },
   "outputs": [],
   "source": [
    "P, Y = met_colocacion(a=1.,b=2.,h=0.5,phi=func_base,alpha0=1,beta0=3,beta1=1,d=13./8,Y0=-5./8)#ejemplo profe\n",
    "\n",
    "print P\n",
    "\n",
    "print Y"
   ]
  },
  {
   "cell_type": "code",
   "execution_count": null,
   "metadata": {
    "collapsed": true
   },
   "outputs": [],
   "source": [
    "def func_base(d,Y):\n",
    "    x = symbols('x')\n",
    "    return d + Y*x\n",
    "\n",
    "\n",
    "def met_colocacion(a,b,h,phi,alpha0,beta0,beta1,d,Y0):\n",
    "    n = (b-a)/h\n",
    "    Phi0 = func_base(d,Y0)\n",
    "    Ys = []#sumas van desde 1\n",
    "    Phis = []\n",
    "    xeval = a\n",
    "    x = symbols('x')\n",
    "    xs = [a]\n",
    "    for i in range(1,int(n)): #se tienen condiciones en los extremos 0 y n \n",
    "        xeval = xeval+h\n",
    "        xs.append(xeval)\n",
    "        Yi = -(beta0*((b-a)**2)+((i+1)*beta1*(b-a)))/(beta0*(b-a)+i*beta1)\n",
    "        Phii = Yi*(x-a)**i + (x-a)**(i+1)\n",
    "        Ys.append(Yi)\n",
    "        Phis.append(Phii)\n",
    "        yn =\n",
    "    return Phis,Ys,xs\n",
    "            \n",
    "#yn = Phi0.evalf(subs={x:xeval})+\n",
    "#http://docs.sympy.org/dev/modules/solvers/solveset.html#sympy.solvers.solveset.linsolve"
   ]
  }
 ],
 "metadata": {
  "kernelspec": {
   "display_name": "Anaconda 2",
   "language": "python",
   "name": "python2"
  },
  "language_info": {
   "codemirror_mode": {
    "name": "ipython",
    "version": 2
   },
   "file_extension": ".py",
   "mimetype": "text/x-python",
   "name": "python",
   "nbconvert_exporter": "python",
   "pygments_lexer": "ipython2",
   "version": "2.7.12"
  }
 },
 "nbformat": 4,
 "nbformat_minor": 1
}
