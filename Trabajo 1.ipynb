{
 "cells": [
  {
   "cell_type": "markdown",
   "metadata": {},
   "source": [
    "# Proyecto 1: Interpolación, Integracion y raíces de Ecuaciones\n",
    "\n",
    "\n",
    "Función asignada: *Polinomios de Legendre asociados* \n",
    "\n",
    "https://es.wikipedia.org/wiki/Polinomios_asociados_de_Legendre\n",
    "\n",
    "Los polinomios asociados de Legendre son las soluciones canónicasde la **ecuación de Legendre**.\n",
    "\n",
    "<center>$(1-x^{2})y'' - 2xy' + (l[l+1]-\\frac{m^{2}}{1-x^{2}})y = 0$</center>\n",
    "\n",
    "O de forma equivalente:\n",
    "\n",
    "<center>$([1-x^{2}]y')' + (l[l+1]-\\frac{m^{2}}{1-x^{2}})y = 0$</center>\n",
    "\n",
    "**$l: $Grado del polinomio, $m: $ Orden del polinomio**\n",
    "\n",
    "Esta ecuación tiene soluciones distintas de 0 que son no singulares en **[-1,1]** sólo si ℓ y m son enteros con 0 ≤ m ≤ ℓ. \n",
    "\n",
    "> Cuando m es cero y ℓ entero, estas funciones son idénticas a los **polinomios de Legendre. **\n",
    "\n",
    "En general, cuando ℓ y m son enteros, las soluciones regulares a veces son llamadas \"polinomios asociados de Legendre\", incluso cuando estas no son polinomios en el caso de que m sea impar. \n",
    "\n",
    "\n",
    "## Polinomios ortogonales\n",
    "\n",
    "\n",
    "Los polinomios ortogonales son conjuntos de polinomios que forman una base ortogonal de cierto espacio de Hilbert. Los polinomios ortogonales son importantes porque aparecen en la teoría de ecuaciones diferenciales, muy especialmente en la teoría de Sturm-Liouville, la teoría de espacios de Hilbert, la teoría de la aproximación de funciones y la mecánica cuántica.\n",
    "\n",
    "Asumiendo que $0\\leq m \\leq l$ se satisface  la condición de ortogonalidad para un m fijo:\n",
    "\n",
    "\n",
    "<center>$\\int _{-1}^{1} P_{k}^{m}P_{l}^{m}dx = \\frac{2(l+m)!}{(2l+1)(l-m)!}\\delta_{k,l}$</center>\n",
    "\n",
    "Donde $\\delta_{k,l}$ es el delta de kronecher.\n",
    "\n",
    "## Relaciones de recurrencia \n",
    "\n",
    "En matemática, una relación de recurrencia es una ecuación que define una secuencia recursiva; cada término de la secuencia es definido como una función de términos anteriores.\n",
    "\n",
    "Los polinomios de Legendre pueden construirse usando las tres relaciones de recurrencia\n",
    "\n",
    "$(n+1)P_{n+1} = (2n+1)xP_{n}- nP_{n-1}$\n",
    "\n",
    "y\n",
    "\n",
    "$\\frac{x^{2}-1}{n} \\frac{d}{dx}P_n = xP_n - P_{n-1} $\n",
    "\n",
    "\n",
    "\n",
    "## Aplicaciones de polinomios de Legendre en Física\n",
    "\n",
    "Los polinomios de Legendre, igual que los de Hermite y Laguerre, son útiles en ramas de la Física y en el cálculo numérico ya que permiten el cómputo de integrales definidas sin necesidad de usar fórmulas analíticas, tan sólo fijando como intervalo de integración [ -1 ; +1] (con el correspondiente cambio de variable). Esto es especialmente interesante en programas de cómputo que tratan de resolver una integral definida.\n"
   ]
  },
  {
   "cell_type": "markdown",
   "metadata": {},
   "source": [
    "$ \\frac{\\partial u}{\\partial t}\n",
    "   = h^2 \\left( \\frac{\\partial^2 u}{\\partial x^2}\n",
    "      + \\frac{\\partial^2 u}{\\partial y^2}\n",
    "      + \\frac{\\partial^2 u}{\\partial z^2} \\right)$\n",
    "      \n",
    "      \n",
    "$\\frac{du}{dt} and \\frac{d^2 u}{dx^2} $"
   ]
  },
  {
   "cell_type": "code",
   "execution_count": 36,
   "metadata": {
    "collapsed": true
   },
   "outputs": [],
   "source": [
    "import numpy as np\n",
    "from sympy import *\n",
    "import matplotlib.pyplot as plt\n",
    "from scipy.misc import comb\n",
    "%matplotlib inline"
   ]
  },
  {
   "cell_type": "markdown",
   "metadata": {},
   "source": [
    "## 1) Interpolación\n",
    "### 1.1 ) Elabórese un programa para calcular su polinomio ortogonal $P_n(x)$ usando las relaciones de recurrencia"
   ]
  },
  {
   "cell_type": "code",
   "execution_count": 59,
   "metadata": {
    "collapsed": false
   },
   "outputs": [],
   "source": [
    "def Pn(n):\n",
    "    x = symbols('x')\n",
    "    Ps = [0, x]\n",
    "    if n == 0:\n",
    "        return 1\n",
    "    elif n == 1:\n",
    "        return x\n",
    "    else:\n",
    "        h = n-1    \n",
    "        p = ( (2.*h +1)*x*Pn(h)- h*Pn(h-1))/(h+1.) \n",
    "        return p"
   ]
  },
  {
   "cell_type": "code",
   "execution_count": 60,
   "metadata": {
    "collapsed": false
   },
   "outputs": [
    {
     "name": "stdout",
     "output_type": "stream",
     "text": [
      "Pn de grado 3 :  x*(2.5*x**2 - 1.5)\n"
     ]
    }
   ],
   "source": [
    "grado = 3\n",
    "P = simplify(Pn(grado))\n",
    "print \"Pn de grado\", grado, \": \",P\n",
    "#P.subs(x,3)"
   ]
  },
  {
   "cell_type": "markdown",
   "metadata": {},
   "source": [
    "### 1.2) Dentro del intervalo de definición escójase ne = 11 nodos equidistantes xe(i), i:1,..,11 y encuéntrese los valores"
   ]
  },
  {
   "cell_type": "code",
   "execution_count": 62,
   "metadata": {
    "collapsed": false
   },
   "outputs": [
    {
     "name": "stdout",
     "output_type": "stream",
     "text": [
      "xe:  [-1.  -0.8 -0.6 -0.4 -0.2  0.   0.2  0.4  0.6  0.8  1. ]\n",
      "\n",
      "ye:  [-1.   -0.08  0.36  0.44  0.28 -0.   -0.28 -0.44 -0.36  0.08  1.  ]\n"
     ]
    }
   ],
   "source": [
    "f = lambdify(x, P)\n",
    "xl = np.linspace(-1,1,11)\n",
    "yl = f(xl)\n",
    "\n",
    "print \"xe: \",xl\n",
    "print \"\\nye: \",yl"
   ]
  },
  {
   "cell_type": "markdown",
   "metadata": {},
   "source": [
    "###  1.3) Elabore 3 programas para calcular los polinomios interpolantes en la base de algoritmos: Lagrange global, segmentaria lineal y parabólica"
   ]
  },
  {
   "cell_type": "code",
   "execution_count": null,
   "metadata": {
    "collapsed": true
   },
   "outputs": [],
   "source": []
  },
  {
   "cell_type": "code",
   "execution_count": 11,
   "metadata": {
    "collapsed": false
   },
   "outputs": [],
   "source": [
    "#Stuff\n",
    "def legendre_rodrigues(n):\n",
    "    \"Retorna polinomio de legendre grado n\"\n",
    "    suma = 0\n",
    "    x = symbols('x')\n",
    "    polinomio = 0 #POLINOMIO SOLUCION\n",
    "    for k in range(n+1):\n",
    "        tmp = (comb(n,k)**2)*((x+1.)**(n-k))*(x-1.)**k\n",
    "        suma = suma+tmp\n",
    "    p = (1.0/(2.**n))*suma\n",
    "    return p\n",
    "\n",
    "def funcion_analitica(xi,n):\n",
    "    \"\"\"Retorna polinomio de legendre de grado n evaluado en x_i.\"\"\"\n",
    "    x = symbols('x')\n",
    "    return  legendre_rodrigues(n).evalf(subs={x:xi})"
   ]
  }
 ],
 "metadata": {
  "kernelspec": {
   "display_name": "Anaconda 2",
   "language": "python",
   "name": "python2"
  },
  "language_info": {
   "codemirror_mode": {
    "name": "ipython",
    "version": 2
   },
   "file_extension": ".py",
   "mimetype": "text/x-python",
   "name": "python",
   "nbconvert_exporter": "python",
   "pygments_lexer": "ipython2",
   "version": "2.7.12"
  }
 },
 "nbformat": 4,
 "nbformat_minor": 1
}
