{
 "cells": [
  {
   "cell_type": "markdown",
   "metadata": {},
   "source": [
    "# Interpolación polinómica de newton equidistante\n",
    "\n",
    "\n",
    "Aunque sólo existe un único polinomio que interpola una serie de puntos, existen diferentes formas de calcularlo. Este método es útil para situaciones que requieran un número bajo de puntos para interpolar, ya que a medida que crece el número de puntos, también lo hace el grado del polinomio.\n",
    "\n",
    "\n",
    "Existen ciertas ventajas en el uso de este polinomio respecto al polinomio interpolador de Lagrange. Por ejemplo, si fuese necesario añadir algún nuevo punto o nodo a la función, tan sólo habría que calcular este último punto, dada la relación de recurrencia existente y demostrada anteriormente."
   ]
  },
  {
   "cell_type": "code",
   "execution_count": 6,
   "metadata": {
    "collapsed": true
   },
   "outputs": [],
   "source": [
    "import numpy as np\n",
    "from sympy import *\n",
    "from math import factorial\n",
    "import matplotlib.pyplot as plt\n",
    "%matplotlib inline"
   ]
  },
  {
   "cell_type": "code",
   "execution_count": 7,
   "metadata": {
    "collapsed": true
   },
   "outputs": [],
   "source": [
    "def funcion_analitica(x):\n",
    "    return np.sin(x)"
   ]
  },
  {
   "cell_type": "code",
   "execution_count": 20,
   "metadata": {
    "collapsed": true
   },
   "outputs": [],
   "source": [
    "def newton(n,xl,yl):\n",
    "    \"\"\"Interpolacion con metodo de newton, grado 2.\n",
    "    \n",
    "    Calcula matriz de diferencias finitas\n",
    "    \n",
    "    Ejemplo para grado 2\n",
    "    \n",
    "    y1 dy1 dy12\n",
    "    y2 dy2 0\n",
    "    y3 0   0\n",
    "    \n",
    "    Parametros:\n",
    "    \n",
    "    xl -- nodos \n",
    "    yl -- valor de la funcion de xl\n",
    "    n -- numero de nodos\n",
    "    \n",
    "    Retorna:\n",
    "    \n",
    "    Pn -- Polinomio interpolador de newton de grado n\n",
    "    DD -- Matriz de diferencias finitas.\n",
    "    \n",
    "    \"\"\"\n",
    "    #Matriz de diferencias finitas\n",
    "    h = xl[1]-xl[0] #equidistante\n",
    "    DD = np.zeros((n,n))\n",
    "    DD[:,0] = yl\n",
    "    \n",
    "    for k in range(1,n):\n",
    "        for j in range (k,n):\n",
    "            DD[j-k,k]= (DD[j,k-1]-DD[j-1,k-1]) \n",
    "    \n",
    "    #Polinomio newton grado n-1\n",
    "    Pn = 0\n",
    "    xn = 1.\n",
    "    for i in range(n): #producto\n",
    "        Pn += (DD[0,i]*xn)/(factorial(i)*h)\n",
    "        print \"Pn\", Pn\n",
    "        print \"xn\",xn\n",
    "        xn = xn*(symbols('x')-xl[i])\n",
    "    \n",
    "    return Pn, DD\n",
    "    "
   ]
  },
  {
   "cell_type": "code",
   "execution_count": 21,
   "metadata": {
    "collapsed": false
   },
   "outputs": [
    {
     "name": "stdout",
     "output_type": "stream",
     "text": [
      "xl:  [ 0.   0.5  1. ]\n",
      "yl:  [ 0.          0.47942554  0.84147098]\n",
      "Pn 0.0\n",
      "xn 1.0\n",
      "Pn 0.958851077208406*x\n",
      "xn 1.0*x\n",
      "Pn -0.362045446203693*x*(x - 0.5) + 0.958851077208406*x\n",
      "xn 1.0*x*(x - 0.5)\n"
     ]
    }
   ],
   "source": [
    "xl = np.linspace(0,1,3)\n",
    "yl = funcion_analitica(xl)\n",
    "print \"xl: \",xl\n",
    "print \"yl: \",yl\n",
    "n = len(xl)\n",
    "Pn, DD = newton(n,xl,yl)"
   ]
  },
  {
   "cell_type": "code",
   "execution_count": 30,
   "metadata": {
    "collapsed": false
   },
   "outputs": [
    {
     "data": {
      "text/plain": [
       "<matplotlib.legend.Legend at 0x7fdc08ab9990>"
      ]
     },
     "execution_count": 30,
     "metadata": {},
     "output_type": "execute_result"
    },
    {
     "data": {
      "image/png": "[encoded data removed]",
      "text/plain": [
       "<matplotlib.figure.Figure at 0x7fdc08b8a290>"
      ]
     },
     "metadata": {},
     "output_type": "display_data"
    }
   ],
   "source": [
    "from sympy.abc import x\n",
    "plt.figure(figsize=(5,5))\n",
    "\n",
    "puntos = np.linspace(.0,1.,100)\n",
    "fpuntos = funcion_analitica(puntos)\n",
    "\n",
    "#Principal polinomio\n",
    "expr = Pn\n",
    "f = lambdify(x, expr)\n",
    "yp = f(puntos)\n",
    "\n",
    "\n",
    "plt.plot(puntos,yp, color = \"purple\", label= \"Solucion Interpolacion Newton\")\n",
    "plt.plot(puntos,funcion_analitica(puntos), color = \"green\", label= \"Solucion Real\")\n",
    "plt.plot(puntos,funcion_analitica(puntos)-yp, color = \"red\", label = \"error\")\n",
    "plt.legend(loc='upper center', bbox_to_anchor=(0.5, -0.1))"
   ]
  },
  {
   "cell_type": "code",
   "execution_count": null,
   "metadata": {
    "collapsed": true
   },
   "outputs": [],
   "source": []
  }
 ],
 "metadata": {
  "kernelspec": {
   "display_name": "Python 2",
   "language": "python",
   "name": "python2"
  },
  "language_info": {
   "codemirror_mode": {
    "name": "ipython",
    "version": 2
   },
   "file_extension": ".py",
   "mimetype": "text/x-python",
   "name": "python",
   "nbconvert_exporter": "python",
   "pygments_lexer": "ipython2",
   "version": "2.7.9"
  }
 },
 "nbformat": 4,
 "nbformat_minor": 0
}
