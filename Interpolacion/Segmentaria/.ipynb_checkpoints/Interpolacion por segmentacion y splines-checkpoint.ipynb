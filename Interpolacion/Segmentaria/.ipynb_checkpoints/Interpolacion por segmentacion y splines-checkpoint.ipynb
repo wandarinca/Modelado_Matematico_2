{
 "cells": [
  {
   "cell_type": "code",
   "execution_count": 12,
   "metadata": {
    "collapsed": true
   },
   "outputs": [],
   "source": [
    "import numpy as np\n",
    "from sympy import *\n",
    "import matplotlib.pyplot as plt\n",
    "import random\n",
    "%matplotlib inline"
   ]
  },
  {
   "cell_type": "code",
   "execution_count": 13,
   "metadata": {
    "collapsed": true
   },
   "outputs": [],
   "source": [
    "def funcion_analitica(x):\n",
    "    return np.sin(x)"
   ]
  },
  {
   "cell_type": "markdown",
   "metadata": {},
   "source": [
    "## Segmentacion \n",
    "\n",
    "Por cada par de puntos adyacentes, hasta un total de (N-1) funciones, haciéndolas pasar obligatoriamente por los puntos que van a determinarlas, es decir, la función P(x) será el conjunto de segmentos que unen nodos consecutivos; es por ello que nuestra función será continua en dichos puntos, pero no derivable en general.\n"
   ]
  },
  {
   "cell_type": "markdown",
   "metadata": {},
   "source": [
    "# Lineal\n",
    "\n",
    "Las funciones  interpoladores son lineales en cada segmento k\n",
    "\n",
    "\n",
    "$P_{k}(x) = ax +b$"
   ]
  },
  {
   "cell_type": "code",
   "execution_count": 43,
   "metadata": {
    "collapsed": false
   },
   "outputs": [
    {
     "name": "stdout",
     "output_type": "stream",
     "text": [
      "K:  318\n",
      "Polinomio lineal:  0.839240452652382\n",
      "Valor de la funcion evaluada en  1.0 :  0.841470984808 Valor estimado segmentacion lineal:  0.839240452652\n"
     ]
    }
   ],
   "source": [
    "def segm_lineal(n,a,h,punto):\n",
    "    \"\"\"Guarda los polinomios, devuelve estimacion en x\n",
    "    n = Numero de puntos en malla\n",
    "    a = Punto de inicio del intervalo\n",
    "    h = distancia entre nodos de la malla\n",
    "    yl = valor de los puntos evaluados en la funcion\n",
    "    \"\"\"\n",
    "    #Encontrar segmento donde esta el punto x que queremos estimar\n",
    "    k = int((punto-a)/h)\n",
    "    print \"K: \",k\n",
    "    xk = a + (k-1)*h\n",
    "    xk_1 = xk+h\n",
    "    yk = funcion_analitica(xk)\n",
    "    yk_1 = funcion_analitica(xk)\n",
    "    polinomio = yk +(yk_1 - yk)*(symbols('x')-xk)/h\n",
    "    estimacion = yk +(yk_1 - yk)*(punto-xk)/h\n",
    "        \n",
    "    return polinomio, estimacion\n",
    "            \n",
    "n = 1000\n",
    "a, b = 0, np.pi\n",
    "punto = 1.\n",
    "h = (b-a)/n\n",
    "polinomio, estimacion = segm_lineal(n,a,h,punto)\n",
    "print \"Polinomio lineal: \",polinomio\n",
    "print \"Valor de la funcion evaluada en \", punto,\": \",funcion_analitica(punto), \"Valor estimado segmentacion lineal: \",estimacion"
   ]
  },
  {
   "cell_type": "markdown",
   "metadata": {},
   "source": [
    "# Cuadrática"
   ]
  },
  {
   "cell_type": "markdown",
   "metadata": {},
   "source": [
    "Las funciones  interpoladores son cuadráticas en cada segmento k\n",
    "\n",
    "$P_{k}(x) = ax^{2} +bx + cy$"
   ]
  },
  {
   "cell_type": "code",
   "execution_count": 45,
   "metadata": {
    "collapsed": false
   },
   "outputs": [
    {
     "name": "stdout",
     "output_type": "stream",
     "text": [
      "K:  318\n",
      "Polinomio cuadratico:  101321.183642338*(0.00339995950805061*x - 0.00338596823671928)*(x - 0.999026463841554) + 0.839240452652382\n",
      "Valor:  0.841470984808 Valor estimado segmentacion cuad:  0.84062054936\n"
     ]
    }
   ],
   "source": [
    "def segm_cuad(n,a,h,punto):\n",
    "    \"\"\"Guarda los polinomios, devuelve estimacion en x\n",
    "    n = Numero de puntos en malla\n",
    "    a = Punto de inicio del intervalo\n",
    "    h = distancia entre nodos de la malla\n",
    "    yl = valor de los puntos evaluados en la funcion\n",
    "    \"\"\"\n",
    "    #Encontrar segmento donde esta el punto x\n",
    "    k = int((punto-a)/h)\n",
    "    print \"K: \",k\n",
    "    xk = a + (k-1)*h\n",
    "    xk_1 = xk+h\n",
    "    xk_2 = xk + 2*h\n",
    "    yk = funcion_analitica(xk)\n",
    "    yk_1 = funcion_analitica(xk)\n",
    "    yk_2 = funcion_analitica(xk_2)\n",
    "    \n",
    "    polinomio = yk + (yk_1 - yk)*((symbols('x')-xk)/h ) + (yk_2-2*yk_1+yk)*(symbols('x')-xk)*(symbols('x')-xk_1)/h**2\n",
    "    \n",
    "    estimacion = yk +(yk_1 - yk)*((punto-xk)/h ) +(yk_2-2*yk_1+yk)*(punto-xk)*(punto-xk_1)/h**2\n",
    "        \n",
    "    return polinomio, estimacion\n",
    "            \n",
    "n = 1000.\n",
    "a, b = 0, np.pi\n",
    "punto = 1.\n",
    "h = (b-a)/n\n",
    "\n",
    "polinomio, estimacion = segm_cuad(n,a,h,punto)\n",
    "print \"Polinomio cuadratico: \",polinomio\n",
    "print \"Valor: \",funcion_analitica(punto), \"Valor estimado segmentacion cuad: \",estimacion"
   ]
  },
  {
   "cell_type": "markdown",
   "metadata": {},
   "source": [
    "# Splines\n",
    "\n",
    "Un spline es una curva definida en cada  segmento mediante polinomios, requiriendo solamente el uso de polinomios de bajo grado, **evitando así las oscilaciones** encontradas al interpolar mediante polinomios de grado elevado.\n",
    "\n",
    "### Splines cúbicos\n",
    "\n",
    "\n",
    "Cada polinomio P(x) a través del que construimos los Splines en [m,n] tiene grado 3. \n",
    "\n",
    "$S(x) = ax^{3} + bx^{2} + cx + d$\n",
    "\n",
    "En este caso vamos a tener **cuatro variables por cada intervalo (a,b,c,d)**, y una nueva condición para cada\n",
    "punto común a dos intervalos, respecto a la derivada segunda:\n",
    "\n",
    "- Que las partes de la función a trozos P(x) pasen por ese punto. Es decir, que las dos Pn(x) que\n",
    "rodean al f(x) que queremos aproximar, sean igual a f(x) en cada uno de estos puntos.\n",
    "\n",
    "$S_{3_{k}}(x)= f(x) =S_{3_{k+1}}(x) $\n",
    "\n",
    "\n",
    "- Que la derivada en un punto siempre coincida para ambos \"lados\" de la función definida a trozos que\n",
    "pasa por tal punto común.\n",
    "\n",
    "$S_{3_{k}}^{1}(x) =S_{3_{k+1}}^{1}(x) $\n",
    "\n",
    "\n",
    "- Que la derivada segunda en un punto siempre coincida para ambos \"lados\" de la función definida a\n",
    "trozos que pasa por tal punto común.\n",
    "\n",
    "$S_{3_{k}}^{2}(x) =S_{3_{k+1}}^{2}(x)$\n",
    "\n",
    "Como puede deducirse al compararlo con el caso de splines cuadráticos, ahora no nos va a faltar una sino\n",
    "dos ecuaciones (condiciones) para el número de incógnitas que tenemos.\n",
    "\n",
    "\n",
    "La forma de solucionar esto, determina el carácter de los splines cúbicos. Así, podemos usar:\n",
    "\n",
    "### Splines cúbicos naturales:\n",
    "\n",
    "La forma más típica. \n",
    "- **La derivada segunda de S se hace 0** para el primer y último punto sobre el que está definido el conjunto de Splines, esto son, los puntos m y n en el intervalo [m,n].\n",
    "\n",
    "$S_{3}^{2}(x_{0}) = 0 = S_{3}^{2}(x_{n})$\n",
    "\n",
    "\n",
    "- Dar los valores de la derivada segunda de m y n de forma \"manual\", en el conjunto de splines\n",
    "definidos en el intervalo [m,n].\n",
    "\n",
    "$S_{3}^{1}(x_{0}) = f^{1}(x_{0}) $\n",
    "\n",
    "$S_{3}^{1}(x_{n}) = f^{1}(x_{n}) $\n",
    "\n",
    "\n",
    "- Hacer iguales los valores de la derivada segunda de m y n en el conjunto de splines definidos en el\n",
    "intervalo [m,n]\n",
    "\n",
    "### Splines cúbicos sujetos: \n",
    "\n",
    "La derivada primera de S debe tener el mismo valor que las derivadas primeras de la función para el primer y último punto sobre el que está definido el conjunto de Splines, esto son, los puntos m y n en el intervalo [m,n].\n",
    "\n",
    "$S_{3}^{1}(x_{0}) = f^{1}(x_{0}) $\n",
    "\n",
    "$S_{3}^{1}(x_{n}) = f^{1}(x_{n}) $"
   ]
  },
  {
   "cell_type": "code",
   "execution_count": null,
   "metadata": {
    "collapsed": true
   },
   "outputs": [],
   "source": [
    "def splines(n,a,h,punto):\n",
    "    \"\"\"Guarda los polinomios, devuelve estimacion en x\n",
    "    n = Numero de puntos en malla\n",
    "    a = Punto de inicio del intervalo\n",
    "    h = distancia entre nodos de la malla\n",
    "    yl = valor de los puntos evaluados en la funcion\n",
    "    \"\"\"\n",
    "    #Encontrar segmento donde esta el punto x\n",
    "    k = int((punto-a)/h)\n",
    "    print \"K: \",k\n",
    "    xk = a + (k-1)*h\n",
    "    xk_1 = xk+h\n",
    "    xk_2 = xk + 2*h\n",
    "    yk = funcion_analitica(xk)\n",
    "    yk_1 = funcion_analitica(xk)\n",
    "    yk_2 = funcion_analitica(xk_2)\n",
    "    \n",
    "    polinomio = yk + (yk_1 - yk)*((symbols('x')-xk)/h ) + (yk_2-2*yk_1+yk)*(symbols('x')-xk)*(symbols('x')-xk_1)/h**2\n",
    "    \n",
    "    estimacion = yk +(yk_1 - yk)*((punto-xk)/h ) +(yk_2-2*yk_1+yk)*(punto-xk)*(punto-xk_1)/h**2\n",
    "        \n",
    "    return polinomio, estimacion\n",
    "            \n",
    "n = 1000.\n",
    "a, b = 0, np.pi\n",
    "punto = 1.\n",
    "h = (b-a)/n\n",
    "\n",
    "polinomio, estimacion = segm_cuad(n,a,h,punto)\n",
    "print \"Polinomio cuadratico: \",polinomio\n",
    "print \"Valor: \",funcion_analitica(punto), \"Valor estimado segmentacion cuad: \",estimacion"
   ]
  },
  {
   "cell_type": "markdown",
   "metadata": {},
   "source": [
    "## Bibliografía \n",
    "\n",
    "- Apuntes Ilia \n",
    "- http://interpolacion.wikidot.com/spline-cubica"
   ]
  },
  {
   "cell_type": "code",
   "execution_count": null,
   "metadata": {
    "collapsed": true
   },
   "outputs": [],
   "source": []
  }
 ],
 "metadata": {
  "kernelspec": {
   "display_name": "Python 2",
   "language": "python",
   "name": "python2"
  },
  "language_info": {
   "codemirror_mode": {
    "name": "ipython",
    "version": 2
   },
   "file_extension": ".py",
   "mimetype": "text/x-python",
   "name": "python",
   "nbconvert_exporter": "python",
   "pygments_lexer": "ipython2",
   "version": "2.7.9"
  }
 },
 "nbformat": 4,
 "nbformat_minor": 0
}
